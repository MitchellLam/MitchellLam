{
  "nbformat": 4,
  "nbformat_minor": 0,
  "metadata": {
    "colab": {
      "name": "Sales.ipynb",
      "provenance": []
    },
    "kernelspec": {
      "name": "python3",
      "display_name": "Python 3"
    },
    "language_info": {
      "name": "python"
    }
  },
  "cells": [
    {
      "cell_type": "markdown",
      "metadata": {
        "id": "gTFt4IqFeZbS"
      },
      "source": [
        "#SoftWare Company\n",
        "Each package retails for $99\n"
      ]
    },
    {
      "cell_type": "code",
      "metadata": {
        "colab": {
          "base_uri": "https://localhost:8080/"
        },
        "id": "7-rE49z7Ws5w",
        "outputId": "81c9e6cb-0def-4337-937b-cb01184c6cbe"
      },
      "source": [
        "numpackages = int(input(\"How many packages have you purchased? \"))\n",
        "packages = numpackages * 99\n",
        "if numpackages >= 10 and numpackages <= 19:\n",
        "  Dcount = \"10%\"\n",
        "  discount = packages * .10\n",
        "  total = packages - discount\n",
        "elif numpackages >= 20 and numpackages <= 49:\n",
        "  Dcount = \"20%\"\n",
        "  discount = packages * .20\n",
        "  total = packages - discount\n",
        "elif numpackages >= 50 and numpackages <= 99:\n",
        "  Dcount = \"30%\"\n",
        "  discount = packages * .30\n",
        "  total = packages - discount\n",
        "elif numpackages >= 100:\n",
        "  Dcount = \"40%\"\n",
        "  discount = packages * .40\n",
        "  total = packages - discount\n",
        "\n",
        "print(\"Amount: \", packages)\n",
        "print(\"Your Discount: \", Dcount)\n",
        "print(\"New Amount:\" , total)"
      ],
      "execution_count": null,
      "outputs": [
        {
          "output_type": "stream",
          "name": "stdout",
          "text": [
            "How many packages have you purchased? 11\n",
            "Amount:  1089\n",
            "Your Discount:  10%\n",
            "New Amount: 980.1\n"
          ]
        }
      ]
    },
    {
      "cell_type": "markdown",
      "metadata": {
        "id": "4zxXF00nefy6"
      },
      "source": [
        "#Fast Freight Shipping Company\n"
      ]
    },
    {
      "cell_type": "code",
      "metadata": {
        "colab": {
          "base_uri": "https://localhost:8080/"
        },
        "id": "HrW-iTy4eKd7",
        "outputId": "78679a5c-685a-41af-f2df-d24b0aaf82a0"
      },
      "source": [
        "pweight = int(input(\"Weight of package: \"))\n",
        "\n",
        "if pweight <= 2:\n",
        "    shipcharge = \"$1.50\"\n",
        "elif pweight > 2 and pweight <= 6:\n",
        "    shipcharge = \"$3.00\"\n",
        "elif pweight > 6 and pweight <= 10:\n",
        "    shipcharge = \"$4.00\"\n",
        "elif pweight > 10:\n",
        "    shipcharge = \"$4.75\"\n",
        "\n",
        "print(\"Your shipping charge is: \", shipcharge)\n",
        "\n",
        "  "
      ],
      "execution_count": null,
      "outputs": [
        {
          "output_type": "stream",
          "name": "stdout",
          "text": [
            "Weight of package: 10\n",
            "Your shipping charge is:  $4.00\n"
          ]
        }
      ]
    }
  ]
}