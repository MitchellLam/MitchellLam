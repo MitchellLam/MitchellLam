{
  "nbformat": 4,
  "nbformat_minor": 0,
  "metadata": {
    "colab": {
      "name": "Savings.ipynb",
      "provenance": []
    },
    "kernelspec": {
      "name": "python3",
      "display_name": "Python 3"
    },
    "language_info": {
      "name": "python"
    }
  },
  "cells": [
    {
      "cell_type": "code",
      "metadata": {
        "id": "c1DQkc8wSsrD"
      },
      "source": [
        ""
      ],
      "execution_count": null,
      "outputs": []
    },
    {
      "cell_type": "markdown",
      "metadata": {
        "id": "FPCMmGZaTiFT"
      },
      "source": [
        "# Investment Strategy\n",
        "\n",
        "This worksheet will assist in financial decisions\n",
        "\n",
        "* future value\n",
        "* present value\n",
        "* interest rate\n",
        "* principal\n",
        "\n",
        "\n"
      ]
    },
    {
      "cell_type": "code",
      "metadata": {
        "colab": {
          "base_uri": "https://localhost:8080/"
        },
        "id": "BBhoYaXvkjqJ",
        "outputId": "3908ccf8-aaf7-48f6-c78a-2e96157ed678"
      },
      "source": [
        "interest_rate = .05\n",
        "years = 10\n",
        "principal = 100\n",
        "output = principal*(1+interest_rate)**years\n",
        "print(\"The output is\", output)\n"
      ],
      "execution_count": 1,
      "outputs": [
        {
          "output_type": "stream",
          "name": "stdout",
          "text": [
            "The output is 162.8894626777442\n"
          ]
        }
      ]
    },
    {
      "cell_type": "code",
      "metadata": {
        "id": "O8USadUvlF13"
      },
      "source": [
        "fv = int(input(\"Future Value investment: \"))\n",
        "interest_rate = int(input(\"Interest rate: \"))\n",
        "years: int(input(\"Years until payment received:\"))\n",
        "pv = fv/(1+interest_rate)**years\n",
        "print(\"Your amount will grow to: \",pv)\n"
      ],
      "execution_count": null,
      "outputs": []
    },
    {
      "cell_type": "markdown",
      "metadata": {
        "id": "vPMN70ufoQPJ"
      },
      "source": [
        "User inputs there furutre value, their interest rate, and the years until payment received. The formula will give you the current value of your stream flow. \n"
      ]
    },
    {
      "cell_type": "markdown",
      "metadata": {
        "id": "eg90qaAAp4fZ"
      },
      "source": [
        ""
      ]
    }
  ]
}